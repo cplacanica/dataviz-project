{
 "cells": [
  {
   "cell_type": "code",
   "execution_count": 1,
   "outputs": [],
   "source": [
    "import pandas as pd\n",
    "import plotly.express as px\n",
    "from dash import dcc\n",
    "from dash import html\n",
    "from dash.dependencies import Input, Output\n",
    "import numpy as np\n",
    "import seaborn as sns\n",
    "import matplotlib.pyplot as plt\n",
    "from jupyter_dash import JupyterDash\n",
    "import plotly.graph_objects as go\n",
    "\n",
    "df = pd.read_csv('project_dataset.csv')\n",
    "df.dropna(subset=['date_start', 'date_end', 'medium_display', 'artwork_type_title', 'department_title', 'artist_title'],\n",
    "          inplace=True)\n",
    "\n",
    "df['colorfulness'].fillna(df['colorfulness'].median(), inplace=True)\n",
    "font_t = {'family': 'Andale Mono', 'size': 20, 'weight': 'bold'}\n",
    "font_lab = {'family': 'Andale Mono', 'size': 16}\n",
    "\n",
    "df[\"date_start\"] = df[\"date_start\"].astype(int)\n",
    "top_medium_types = df['medium_display'].value_counts().nlargest(5).index\n",
    "df_filtered = df[df['medium_display'].isin(top_medium_types)]\n"
   ],
   "metadata": {
    "collapsed": false,
    "ExecuteTime": {
     "start_time": "2023-05-06T20:32:57.813973Z",
     "end_time": "2023-05-06T20:32:58.016546Z"
    }
   }
  },
  {
   "cell_type": "markdown",
   "source": [
    "DASH"
   ],
   "metadata": {
    "collapsed": false
   }
  },
  {
   "cell_type": "code",
   "execution_count": 2,
   "outputs": [],
   "source": [
    "TYPES = df_filtered['medium_display'].unique().tolist()\n",
    "type_one_options = [ {\"label\": pktype, \"value\": pktype} for pktype in TYPES]\n",
    "\n",
    "CTYPE = {'Color woodblock print; oban': '#b93252', 'Color woodblock print': '#4ba4b1', 'Etching on paper': '#5755a5', 'Lithograph on paper': '#fca85d', 'Gelatin silver print': '#a0d8a4'}\n",
    "\n",
    "external_stylesheets = ['https://codepen.io/chriddyp/pen/bWLwgP.css'] # define the html style. You can store it your device for offline tests."
   ],
   "metadata": {
    "collapsed": false,
    "ExecuteTime": {
     "start_time": "2023-05-06T20:33:00.681685Z",
     "end_time": "2023-05-06T20:33:00.688977Z"
    }
   }
  },
  {
   "cell_type": "code",
   "execution_count": 3,
   "outputs": [],
   "source": [
    "app = JupyterDash(__name__, external_stylesheets = external_stylesheets)\n",
    "\n",
    "app.layout = html.Div([\n",
    "        html.Div([\n",
    "            html.Div([\n",
    "                html.P(\"Filter by Medium:\", className=\"control_label\"),\n",
    "                dcc.Dropdown(\n",
    "                    id=\"one_types\",\n",
    "                    options=type_one_options,\n",
    "                    multi=True,\n",
    "                    value=[\n",
    "                        \"Color woodblock print; oban\",\n",
    "                        \"Color woodblock print\",\n",
    "                        \"Etching on paper\",\n",
    "                        \"Lithograph on paper\",\n",
    "                        \"Gelatin silver print\",\n",
    "                    ],\n",
    "                    className=\"dcc_control\",\n",
    "                ),\n",
    "            ], className=\"pretty_container four columns\", id=\"cross-filter-options\"),\n",
    "            html.Div([dcc.Graph(id=\"graph\")], id=\"countGraphContainer\", className=\"pretty_container twelve columns\"),\n",
    "        ], className=\"row flex-display\"),\n",
    "        html.Div([\n",
    "            html.Div([dcc.Graph(id=\"scatterplot\")], className=\"pretty_container twelve columns\"),\n",
    "        ], className=\"row flex-display\"),\n",
    "    ],\n",
    "    id=\"mainContainer\",\n",
    "    style={\"display\": \"flex\", \"flex-direction\": \"column\"}\n",
    ")\n",
    "\n"
   ],
   "metadata": {
    "collapsed": false,
    "ExecuteTime": {
     "start_time": "2023-05-06T20:33:01.213941Z",
     "end_time": "2023-05-06T20:33:01.221904Z"
    }
   }
  },
  {
   "cell_type": "code",
   "execution_count": 4,
   "outputs": [],
   "source": [
    "@app.callback(  Output(\"graph\", \"figure\"),\n",
    "                [Input('one_types', \"value\")])\n",
    "def make_histogram(one_types):\n",
    "    fig = px.histogram(df_filtered[df_filtered[\"medium_display\"].isin(one_types)],\n",
    "                       x=\"colorfulness\",\n",
    "                       color=\"medium_display\",\n",
    "                       color_discrete_map=CTYPE)\n",
    "\n",
    "    fig.update_traces(textposition=\"outside\")\n",
    "    fig.update_layout(template='simple_white',\n",
    "        title={\n",
    "            'text': 'Colorfulness in Medium Displays',\n",
    "            'font': {'size': 20, 'family': 'Andale Mono', 'color': 'black'},\n",
    "            'x': 0.5, # Center title horizontally\n",
    "            'y': 1  # Position title vertically\n",
    "        },\n",
    "        font={\n",
    "            'family': 'Andale Mono',\n",
    "            'size': 14,\n",
    "            'color': 'black'\n",
    "        },\n",
    "        legend={\n",
    "            'title': {'text': 'Medium Display', 'font': {'size': 16, 'family': 'Andale Mono', 'color': 'black'}},\n",
    "            'font': {'size': 12, 'family': 'Andale Mono', 'color': 'black'}\n",
    "        },\n",
    "        xaxis={\n",
    "            'title': {'text': 'Colorfulness', 'font': {'size': 14, 'family': 'Andale Mono', 'color': 'black'}},\n",
    "            'tickfont': {'size': 12, 'family': 'Andale Mono', 'color': 'black'}\n",
    "        },\n",
    "        yaxis={\n",
    "            'title': {'text': 'Count', 'font': {'size': 14, 'family': 'Andale Mono', 'color': 'black'}},\n",
    "            'tickfont': {'size': 12, 'family': 'Andale Mono', 'color': 'black'}\n",
    "        },\n",
    "        uniformtext_minsize=10,\n",
    "        uniformtext_mode=\"hide\"\n",
    "    )\n",
    "\n",
    "    return fig"
   ],
   "metadata": {
    "collapsed": false,
    "ExecuteTime": {
     "start_time": "2023-05-06T20:33:01.644389Z",
     "end_time": "2023-05-06T20:33:01.648007Z"
    }
   }
  },
  {
   "cell_type": "code",
   "execution_count": 5,
   "outputs": [],
   "source": [
    "@app.callback(Output(\"scatterplot\", \"figure\"),\n",
    "              [Input(\"one_types\", \"value\")])\n",
    "def make_scatterplot(one_types):\n",
    "    fig = px.scatter(df_filtered[df_filtered[\"medium_display\"].isin(one_types)],\n",
    "                     x=\"date_start\",\n",
    "                     y=\"colorfulness\",\n",
    "                     color=\"medium_display\",\n",
    "                     color_discrete_map=CTYPE)\n",
    "    fig.update_traces(marker_size=8)\n",
    "    fig.update_layout(template='simple_white',\n",
    "        title={\n",
    "            'text': 'Colorfulness Across the Years',\n",
    "            'font': {'size': 20, 'family': 'Andale Mono', 'color':'black'},\n",
    "            'x': 0.5, # Center title horizontally\n",
    "            'y': 1  # Position title vertically\n",
    "        },\n",
    "        font={\n",
    "            'family': 'Andale Mono',\n",
    "            'size': 14,\n",
    "            'color': 'black'\n",
    "        },\n",
    "        legend={\n",
    "            'title': {'text': 'Medium Display', 'font': {'size': 15, 'family': 'Andale Mono', 'color': 'black'}},\n",
    "            'font': {'size': 12, 'family': 'Andale Mono', 'color': 'black'}\n",
    "        },\n",
    "        xaxis={\n",
    "            'title': {'text': 'Years', 'font': {'size': 14, 'family': 'Andale Mono', 'color': 'black'}},\n",
    "            'tickfont': {'size': 12, 'family': 'Andale Mono', 'color': 'black'}\n",
    "        },\n",
    "        yaxis={\n",
    "            'title': {'text': 'Colorfulness', 'font': {'size': 14, 'family': 'Andale Mono', 'color': 'black'}},\n",
    "            'tickfont': {'size': 12, 'family': 'Andale Mono', 'color': 'black'}\n",
    "        }\n",
    "    )\n",
    "    return fig"
   ],
   "metadata": {
    "collapsed": false,
    "ExecuteTime": {
     "start_time": "2023-05-06T20:33:02.059883Z",
     "end_time": "2023-05-06T20:33:02.063701Z"
    }
   }
  },
  {
   "cell_type": "code",
   "execution_count": 7,
   "outputs": [
    {
     "name": "stdout",
     "output_type": "stream",
     "text": [
      "Dash is running on http://127.0.0.1:2345/\n",
      "\n"
     ]
    },
    {
     "data": {
      "text/plain": "<IPython.lib.display.IFrame at 0x14d2c7940>",
      "text/html": "\n        <iframe\n            width=\"100%\"\n            height=\"650\"\n            src=\"http://127.0.0.1:2345/\"\n            frameborder=\"0\"\n            allowfullscreen\n            \n        ></iframe>\n        "
     },
     "metadata": {},
     "output_type": "display_data"
    }
   ],
   "source": [
    "app.run_server(mode='inline', port=2345)\n",
    "\n",
    "#app.save('dash-project.html')"
   ],
   "metadata": {
    "collapsed": false,
    "ExecuteTime": {
     "start_time": "2023-05-06T20:33:12.288733Z",
     "end_time": "2023-05-06T20:33:12.323184Z"
    }
   }
  },
  {
   "cell_type": "code",
   "execution_count": null,
   "outputs": [],
   "source": [],
   "metadata": {
    "collapsed": false
   }
  }
 ],
 "metadata": {
  "kernelspec": {
   "name": "python3",
   "language": "python",
   "display_name": "Python 3 (ipykernel)"
  },
  "language_info": {
   "codemirror_mode": {
    "name": "ipython",
    "version": 2
   },
   "file_extension": ".py",
   "mimetype": "text/x-python",
   "name": "python",
   "nbconvert_exporter": "python",
   "pygments_lexer": "ipython2",
   "version": "2.7.6"
  }
 },
 "nbformat": 4,
 "nbformat_minor": 0
}
